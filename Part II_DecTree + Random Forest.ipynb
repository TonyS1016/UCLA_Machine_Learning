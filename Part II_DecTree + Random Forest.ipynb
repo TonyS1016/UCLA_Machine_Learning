{
 "cells": [
  {
   "cell_type": "markdown",
   "metadata": {},
   "source": [
    "## Part II. Decicion Trees"
   ]
  },
  {
   "cell_type": "markdown",
   "metadata": {},
   "source": [
    "### Importing Packages"
   ]
  },
  {
   "cell_type": "code",
   "execution_count": 3,
   "metadata": {},
   "outputs": [],
   "source": [
    "import matplotlib.pyplot as plt\n",
    "import numpy as np\n",
    "import pandas as pd\n",
    "import warnings\n",
    "warnings.filterwarnings(\"ignore\")\n",
    "from imblearn.over_sampling import SMOTE\n",
    "from imblearn.pipeline import make_pipeline\n",
    "from pylab import rcParams\n",
    "from sklearn.linear_model import LogisticRegression\n",
    "from sklearn.metrics import accuracy_score\n",
    "from sklearn.metrics import precision_score, recall_score, confusion_matrix\n",
    "from sklearn.metrics import f1_score, roc_auc_score, roc_curve\n",
    "from sklearn.model_selection import train_test_split\n",
    "from sklearn.model_selection import GridSearchCV\n",
    "from sklearn.impute import KNNImputer\n",
    "\n",
    "from IPython.core.interactiveshell import InteractiveShell\n",
    "InteractiveShell.ast_node_interactivity = \"all\""
   ]
  },
  {
   "cell_type": "markdown",
   "metadata": {},
   "source": [
    "### Function for Model Evaluation"
   ]
  },
  {
   "cell_type": "code",
   "execution_count": 4,
   "metadata": {},
   "outputs": [],
   "source": [
    "def generate_model_report(y_actual, y_predicted):\n",
    "    print(\"Accuracy: \" , accuracy_score(y_actual, y_predicted))\n",
    "    print(\"Precision:\" ,precision_score(y_actual, y_predicted))\n",
    "    print(\"Recall:   \" ,recall_score(y_actual, y_predicted))\n",
    "    print(\"F1 Score: \" ,f1_score(y_actual, y_predicted))\n",
    "    print(\"AUC Score:\" , roc_auc_score(y_actual, y_predicted))\n",
    "    pass"
   ]
  },
  {
   "cell_type": "markdown",
   "metadata": {},
   "source": [
    "### Importing and Cleaning Data"
   ]
  },
  {
   "cell_type": "code",
   "execution_count": 5,
   "metadata": {},
   "outputs": [],
   "source": [
    "sdata = pd.read_csv('healthcare-dataset-stroke-data.csv')"
   ]
  },
  {
   "cell_type": "code",
   "execution_count": 6,
   "metadata": {},
   "outputs": [
    {
     "data": {
      "text/plain": [
       "(5110, 12)"
      ]
     },
     "execution_count": 6,
     "metadata": {},
     "output_type": "execute_result"
    }
   ],
   "source": [
    "sdata.shape"
   ]
  },
  {
   "cell_type": "markdown",
   "metadata": {},
   "source": [
    "#### Adding Indicator Variables"
   ]
  },
  {
   "cell_type": "code",
   "execution_count": 7,
   "metadata": {},
   "outputs": [],
   "source": [
    "sdata = sdata[sdata.gender != 'Other']\n",
    "sdata['gender'] = sdata['gender'].replace({'Male':0,'Female':1}).astype(np.uint8)\n",
    "sdata['ever_married'] =sdata['ever_married'].replace({'No':0,'Yes':1}).astype(np.uint8)\n",
    "sdata['Residence_type'] =sdata['Residence_type'].replace({'Rural':0,'Urban':1}).astype(np.uint8)"
   ]
  },
  {
   "cell_type": "code",
   "execution_count": 8,
   "metadata": {},
   "outputs": [],
   "source": [
    "one_hot = pd.get_dummies(sdata['work_type'])\n",
    "sdata = sdata.drop('work_type',axis = 1)\n",
    "sdata = sdata.join(one_hot)\n",
    "one_hot = pd.get_dummies(sdata['smoking_status'])\n",
    "sdata = sdata.drop('smoking_status',axis = 1)\n",
    "sdata = sdata.join(one_hot)"
   ]
  },
  {
   "cell_type": "markdown",
   "metadata": {},
   "source": [
    "#### Imputing Missing Values"
   ]
  },
  {
   "cell_type": "code",
   "execution_count": 9,
   "metadata": {},
   "outputs": [
    {
     "data": {
      "text/plain": [
       "40"
      ]
     },
     "execution_count": 9,
     "metadata": {},
     "output_type": "execute_result"
    }
   ],
   "source": [
    "null_data = sdata[sdata.isnull().any(axis=1)]\n",
    "null_data['stroke'].sum()\n",
    "# of the 201 missing values, 40 had a stroke"
   ]
  },
  {
   "cell_type": "code",
   "execution_count": 10,
   "metadata": {},
   "outputs": [],
   "source": [
    "# there are 201 missing values in the BMI column, 40 of which epxerienced a stroke event, \n",
    "# so we impute using kNN:\n",
    "imputer = KNNImputer(n_neighbors=70)\n",
    "sdatakNN = imputer.fit_transform(sdata)\n",
    "sdata = pd.DataFrame(sdatakNN, columns=sdata.columns)\n",
    "\n",
    "\n",
    "#sdata = sdata.dropna()"
   ]
  },
  {
   "cell_type": "markdown",
   "metadata": {},
   "source": [
    "### Splitting Data"
   ]
  },
  {
   "cell_type": "code",
   "execution_count": 11,
   "metadata": {},
   "outputs": [
    {
     "name": "stdout",
     "output_type": "stream",
     "text": [
      "Features data shape: (5109, 17)\n",
      "Target data shape: (5109,)\n"
     ]
    }
   ],
   "source": [
    "from sklearn.preprocessing import MinMaxScaler\n",
    "from sklearn.model_selection import train_test_split\n",
    "\n",
    "X, Y = (sdata.drop(columns=['id','stroke']),sdata['stroke'])\n",
    "X = MinMaxScaler().fit_transform(X)\n",
    "# I commented the above out to evaluate the results without data normalization\n",
    "\n",
    "# Splitting data into train, validation, test \n",
    "\n",
    "print(\"Features data shape: {}\".format(X.shape))\n",
    "print(\"Target data shape: {}\".format(Y.shape))\n",
    "\n",
    "# Test train split for train vs test\n",
    "X_train, X_test, Y_train, Y_test = train_test_split(X, Y, test_size=0.5,random_state=425)\n",
    "\n",
    "# Test train split for train vs validation\n",
    "X_train, X_val, Y_train, Y_val = train_test_split(X_train, Y_train, test_size=0.2,random_state=425)"
   ]
  },
  {
   "cell_type": "markdown",
   "metadata": {},
   "source": [
    "# DECICION TREE"
   ]
  },
  {
   "cell_type": "markdown",
   "metadata": {},
   "source": [
    "## BASELINE"
   ]
  },
  {
   "cell_type": "code",
   "execution_count": 12,
   "metadata": {},
   "outputs": [
    {
     "name": "stdout",
     "output_type": "stream",
     "text": [
      "Accuracy:  0.9119373776908023\n",
      "Precision: 0.16891891891891891\n",
      "Recall:    0.1968503937007874\n",
      "F1 Score:  0.18181818181818182\n",
      "AUC Score: 0.5730957075587958\n"
     ]
    },
    {
     "data": {
      "text/html": [
       "<div>\n",
       "<style scoped>\n",
       "    .dataframe tbody tr th:only-of-type {\n",
       "        vertical-align: middle;\n",
       "    }\n",
       "\n",
       "    .dataframe tbody tr th {\n",
       "        vertical-align: top;\n",
       "    }\n",
       "\n",
       "    .dataframe thead th {\n",
       "        text-align: right;\n",
       "    }\n",
       "</style>\n",
       "<table border=\"1\" class=\"dataframe\">\n",
       "  <thead>\n",
       "    <tr style=\"text-align: right;\">\n",
       "      <th>Actual</th>\n",
       "      <th>0.0</th>\n",
       "      <th>1.0</th>\n",
       "    </tr>\n",
       "    <tr>\n",
       "      <th>Predicted</th>\n",
       "      <th></th>\n",
       "      <th></th>\n",
       "    </tr>\n",
       "  </thead>\n",
       "  <tbody>\n",
       "    <tr>\n",
       "      <th>0.0</th>\n",
       "      <td>2305</td>\n",
       "      <td>102</td>\n",
       "    </tr>\n",
       "    <tr>\n",
       "      <th>1.0</th>\n",
       "      <td>123</td>\n",
       "      <td>25</td>\n",
       "    </tr>\n",
       "  </tbody>\n",
       "</table>\n",
       "</div>"
      ],
      "text/plain": [
       "Actual      0.0  1.0\n",
       "Predicted           \n",
       "0.0        2305  102\n",
       "1.0         123   25"
      ]
     },
     "execution_count": 12,
     "metadata": {},
     "output_type": "execute_result"
    }
   ],
   "source": [
    "## Baseline DecisionTreeClassifier\n",
    "from sklearn.tree import DecisionTreeClassifier\n",
    "\n",
    "clf1 = DecisionTreeClassifier(random_state=425).fit(X_train, Y_train) # tells model that dat is not evenly split\n",
    "Y_Test_Pred1 = clf1.predict(X_test)\n",
    "generate_model_report(Y_test, Y_Test_Pred1)\n",
    "pd.crosstab(Y_Test_Pred1, Y_test, rownames=['Predicted'], colnames=['Actual'])"
   ]
  },
  {
   "cell_type": "code",
   "execution_count": 13,
   "metadata": {},
   "outputs": [
    {
     "name": "stdout",
     "output_type": "stream",
     "text": [
      "Accuracy:  0.9189823874755382\n",
      "Precision: 0.12264150943396226\n",
      "Recall:    0.10236220472440945\n",
      "F1 Score:  0.11158798283261802\n",
      "AUC Score: 0.5320295372880697\n"
     ]
    },
    {
     "data": {
      "text/html": [
       "<div>\n",
       "<style scoped>\n",
       "    .dataframe tbody tr th:only-of-type {\n",
       "        vertical-align: middle;\n",
       "    }\n",
       "\n",
       "    .dataframe tbody tr th {\n",
       "        vertical-align: top;\n",
       "    }\n",
       "\n",
       "    .dataframe thead th {\n",
       "        text-align: right;\n",
       "    }\n",
       "</style>\n",
       "<table border=\"1\" class=\"dataframe\">\n",
       "  <thead>\n",
       "    <tr style=\"text-align: right;\">\n",
       "      <th>Actual</th>\n",
       "      <th>0.0</th>\n",
       "      <th>1.0</th>\n",
       "    </tr>\n",
       "    <tr>\n",
       "      <th>Predicted</th>\n",
       "      <th></th>\n",
       "      <th></th>\n",
       "    </tr>\n",
       "  </thead>\n",
       "  <tbody>\n",
       "    <tr>\n",
       "      <th>0.0</th>\n",
       "      <td>2335</td>\n",
       "      <td>114</td>\n",
       "    </tr>\n",
       "    <tr>\n",
       "      <th>1.0</th>\n",
       "      <td>93</td>\n",
       "      <td>13</td>\n",
       "    </tr>\n",
       "  </tbody>\n",
       "</table>\n",
       "</div>"
      ],
      "text/plain": [
       "Actual      0.0  1.0\n",
       "Predicted           \n",
       "0.0        2335  114\n",
       "1.0          93   13"
      ]
     },
     "execution_count": 13,
     "metadata": {},
     "output_type": "execute_result"
    }
   ],
   "source": [
    "## Baseline DecisionTreeClassifier with specified class weight\n",
    "from sklearn.tree import DecisionTreeClassifier\n",
    "# class_weight tells model that data are not evenly split\n",
    "clf1 = DecisionTreeClassifier(random_state=425, class_weight='balanced').fit(X_train, Y_train) \n",
    "Y_Test_Pred1 = clf1.predict(X_test)\n",
    "generate_model_report(Y_test, Y_Test_Pred1)\n",
    "pd.crosstab(Y_Test_Pred1, Y_test, rownames=['Predicted'], colnames=['Actual'])"
   ]
  },
  {
   "cell_type": "markdown",
   "metadata": {},
   "source": [
    "## OVERSAMPLING"
   ]
  },
  {
   "cell_type": "code",
   "execution_count": null,
   "metadata": {},
   "outputs": [],
   "source": [
    "from imblearn.over_sampling import SMOTE\n",
    "\n",
    "## Initialize dataframe of all parameters to be validated\n",
    "results = pd.DataFrame(columns = ['Weight', \n",
    "                                  'Criterion', \n",
    "                                  'Splitter', \n",
    "                                  'Depth', \n",
    "                                  'Leaf', \n",
    "                                  'Feature', \n",
    "                                  'Accuracy', \n",
    "                                  'F1 Score', \n",
    "                                  'AUC Score'])\n",
    "\n",
    "## Loop over all parameters\n",
    "for weight in [0.1, 0.2, 0.3, 0.4, 0.5, 0.6, 0.7, 0.8, 0.9, 1.0]: # SMOTE Ratio\n",
    "    for crit in ['gini', 'entropy']:\n",
    "        for split in ['best', 'random']:\n",
    "            for depth in [1, 2, 3, 4, 5, 6, 7, 8, 9, 10]:\n",
    "                for leaf in [1, 2, 3, 4, 5]:\n",
    "                    for feature in [1, 2, 3, 4, 5, 6, 7, 8, 'sqrt', 'log2']:\n",
    "                        \n",
    "                        ## Oversampling technique\n",
    "                        sm = SMOTE(random_state=12, sampling_strategy=weight)\n",
    "                        X_train_res, Y_train_res = sm.fit_resample(X_train, Y_train)\n",
    "                        \n",
    "                        ## Model definition\n",
    "                        model = DecisionTreeClassifier(criterion=crit, \n",
    "                                                       splitter=split, \n",
    "                                                       max_depth=depth, \n",
    "                                                       min_samples_leaf=leaf, \n",
    "                                                       max_features=feature, \n",
    "                                                       #class_weight='balanced',\n",
    "                                                       random_state=425)\n",
    "                        \n",
    "                        ## Model fitting\n",
    "                        dct = model.fit(X_train_res, Y_train_res)\n",
    "                        Y_val_pred = model.predict(X_val) # predicted values\n",
    "                        \n",
    "                        ## Model evaluation\n",
    "                        accuracy = accuracy_score(Y_val, Y_val_pred)\n",
    "                        f1 = f1_score(Y_val, Y_val_pred)\n",
    "                        auc = roc_auc_score(Y_val, Y_val_pred)\n",
    "                        \n",
    "                        ## Append results to dataframe\n",
    "                        results = results.append({'Weight':weight, \n",
    "                                                  'Criterion':crit,\n",
    "                                                  'Splitter': split,\n",
    "                                                  'Depth': depth,\n",
    "                                                  'Leaf': leaf,\n",
    "                                                  'Feature': feature,\n",
    "                                                  'Accuracy':accuracy,\n",
    "                                                  'F1 Score':f1,\n",
    "                                                  'AUC Score': auc}, ignore_index = True)"
   ]
  },
  {
   "cell_type": "code",
   "execution_count": 14,
   "metadata": {
    "scrolled": true
   },
   "outputs": [
    {
     "data": {
      "text/plain": [
       "Weight            0.8\n",
       "Criterion        gini\n",
       "Splitter         best\n",
       "Depth               7\n",
       "Leaf                3\n",
       "Feature             4\n",
       "Accuracy     0.819961\n",
       "F1 Score      0.28125\n",
       "AUC Score    0.772551\n",
       "Name: 14323, dtype: object"
      ]
     },
     "execution_count": 14,
     "metadata": {},
     "output_type": "execute_result"
    }
   ],
   "source": [
    "## Retrieve result with highest F1 Score\n",
    "results.loc[results['AUC Score'].idxmax()]"
   ]
  },
  {
   "cell_type": "code",
   "execution_count": 15,
   "metadata": {},
   "outputs": [],
   "source": [
    "## Another loop to get more granularity of SMOTE\n",
    "# Before I tested 10 different smote weights, now I test 3000\n",
    "results_sm = pd.DataFrame(columns = ['Weight', 'Accuracy', 'F1 Score', 'MA_Acc', 'MA_F1'])\n",
    "weights = np.linspace(0.07, 1, 3000)\n",
    "\n",
    "for weight in weights:\n",
    "    sm = SMOTE(random_state=12, sampling_strategy=weight)\n",
    "    X_train_res, Y_train_res = sm.fit_resample(X_train, Y_train)\n",
    "    model = DecisionTreeClassifier(criterion='gini', \n",
    "                                   splitter='best', \n",
    "                                   max_depth=7,\n",
    "                                   min_samples_leaf=3, \n",
    "                                   max_features=4,  #5 without Norm\n",
    "                                   random_state=425).fit(X_train_res, Y_train_res)\n",
    "    Y_val_pred = model.predict(X_val)\n",
    "    accuracy = accuracy_score(Y_val, Y_val_pred)\n",
    "    f1 = f1_score(Y_val, Y_val_pred)\n",
    "    results_sm = results_sm.append({'Weight':weight, 'Accuracy':accuracy,'F1 Score':f1}, ignore_index = True)"
   ]
  },
  {
   "cell_type": "code",
   "execution_count": 16,
   "metadata": {},
   "outputs": [
    {
     "data": {
      "image/png": "[encoded data removed]",
      "text/plain": [
       "<Figure size 864x432 with 2 Axes>"
      ]
     },
     "metadata": {
      "needs_background": "light"
     },
     "output_type": "display_data"
    }
   ],
   "source": [
    "## Plotting moving average of SMOTE weights and scors\n",
    "for i in range(15,len(results)):\n",
    "    results_sm['MA_F1'][i] = (results_sm['F1 Score'][i-15:i]).mean()\n",
    "    results_sm['MA_Acc'][i] = (results_sm['Accuracy'][i-15:i]).mean()\n",
    "\n",
    "## Plot\n",
    "fig, ax = plt.subplots(figsize=(12,6))\n",
    "\n",
    "ax.plot(results_sm['Weight'], results_sm['MA_F1'], color='tab:red', label=\"F1 Score\")\n",
    "ax.plot(results_sm['Weight'], results_sm['F1 Score'], color='tab:red', label=\"F1 Score\", alpha=0.15)\n",
    "ax.set_ylabel('F1 Score', color='tab:red')\n",
    "ax.set_xlabel(\"SMOTE Weight\")\n",
    "ax2=ax.twinx()\n",
    "ax2.plot(results_sm['Weight'], results_sm['MA_Acc'], color='tab:blue', label=\"Accuracy\")\n",
    "ax2.set_ylabel('Accuracy', color='tab:blue')\n",
    "plt.show();"
   ]
  },
  {
   "cell_type": "code",
   "execution_count": 17,
   "metadata": {},
   "outputs": [
    {
     "data": {
      "text/plain": [
       "Weight      0.499493\n",
       "Accuracy    0.863014\n",
       "F1 Score    0.166667\n",
       "MA_Acc      0.860665\n",
       "MA_F1       0.241061\n",
       "Name: 1385, dtype: float64"
      ]
     },
     "execution_count": 17,
     "metadata": {},
     "output_type": "execute_result"
    }
   ],
   "source": [
    "results_sm.loc[results_sm['MA_F1'].idxmax()]"
   ]
  },
  {
   "cell_type": "code",
   "execution_count": 18,
   "metadata": {},
   "outputs": [
    {
     "name": "stdout",
     "output_type": "stream",
     "text": [
      "Accuracy:  0.8246575342465754\n",
      "Precision: 0.14253897550111358\n",
      "Recall:    0.5039370078740157\n",
      "F1 Score:  0.2222222222222222\n",
      "AUC Score: 0.6726851431462336\n"
     ]
    },
    {
     "data": {
      "text/html": [
       "<div>\n",
       "<style scoped>\n",
       "    .dataframe tbody tr th:only-of-type {\n",
       "        vertical-align: middle;\n",
       "    }\n",
       "\n",
       "    .dataframe tbody tr th {\n",
       "        vertical-align: top;\n",
       "    }\n",
       "\n",
       "    .dataframe thead th {\n",
       "        text-align: right;\n",
       "    }\n",
       "</style>\n",
       "<table border=\"1\" class=\"dataframe\">\n",
       "  <thead>\n",
       "    <tr style=\"text-align: right;\">\n",
       "      <th>Actual</th>\n",
       "      <th>0.0</th>\n",
       "      <th>1.0</th>\n",
       "    </tr>\n",
       "    <tr>\n",
       "      <th>Predicted</th>\n",
       "      <th></th>\n",
       "      <th></th>\n",
       "    </tr>\n",
       "  </thead>\n",
       "  <tbody>\n",
       "    <tr>\n",
       "      <th>0.0</th>\n",
       "      <td>2043</td>\n",
       "      <td>385</td>\n",
       "    </tr>\n",
       "    <tr>\n",
       "      <th>1.0</th>\n",
       "      <td>63</td>\n",
       "      <td>64</td>\n",
       "    </tr>\n",
       "  </tbody>\n",
       "</table>\n",
       "</div>"
      ],
      "text/plain": [
       "Actual      0.0  1.0\n",
       "Predicted           \n",
       "0.0        2043  385\n",
       "1.0          63   64"
      ]
     },
     "execution_count": 18,
     "metadata": {},
     "output_type": "execute_result"
    }
   ],
   "source": [
    "## Run best model on testing data\n",
    "\n",
    "sm = SMOTE(random_state=12, sampling_strategy=0.5) # 0.3 without Norm\n",
    "X_train_res, Y_train_res = sm.fit_resample(X_train, Y_train)\n",
    "\n",
    "model = DecisionTreeClassifier(criterion='gini', \n",
    "                                   splitter='best', \n",
    "                                   max_depth=7,\n",
    "                                   min_samples_leaf=3, \n",
    "                                   max_features=4, \n",
    "                                   random_state=425).fit(X_train_res, Y_train_res)\n",
    "\n",
    "Y_val_pred = model.predict(X_test)\n",
    "\n",
    "generate_model_report(Y_test, Y_val_pred)\n",
    "pd.crosstab(Y_test, Y_val_pred, rownames=['Predicted'], colnames=['Actual'])"
   ]
  },
  {
   "cell_type": "markdown",
   "metadata": {},
   "source": [
    "## UNDERSAMPLING"
   ]
  },
  {
   "cell_type": "code",
   "execution_count": 19,
   "metadata": {},
   "outputs": [],
   "source": [
    "from imblearn.under_sampling import NearMiss\n",
    "\n",
    "## Initialize dataframe of all parameters to be validated\n",
    "results = pd.DataFrame(columns = ['Neigbhors', \n",
    "                                  'Criterion', \n",
    "                                  'Splitter', \n",
    "                                  'Depth', \n",
    "                                  'Leaf', \n",
    "                                  'Feature', \n",
    "                                  'Accuracy', \n",
    "                                  'F1 Score', \n",
    "                                  'AUC Score'])\n",
    "\n",
    "## Loop over all parameters\n",
    "for neighbor in [1, 2, 3, 4, 5, 6, 7, 8, 9, 10]:\n",
    "    for crit in ['gini', 'entropy']:\n",
    "        for split in ['best', 'random']:\n",
    "            for depth in [1, 2, 3, 4, 5, 6, 7, 8, 9, 10]:\n",
    "                for leaf in [1, 2, 3, 4, 5]:\n",
    "                    for feature in [1, 2, 3, 4, 5, 6, 7, 8, 'sqrt', 'log2']:\n",
    "                        \n",
    "                        ## Underampling technique\n",
    "                        nm = NearMiss(version=1,n_neighbors=neighbor)\n",
    "                        X_train_res, Y_train_res = nm.fit_resample(X_train, Y_train)\n",
    "                        \n",
    "                        ## Model definition\n",
    "                        model = DecisionTreeClassifier(criterion=crit, \n",
    "                                                       splitter=split, \n",
    "                                                       max_depth=depth, \n",
    "                                                       min_samples_leaf=leaf, \n",
    "                                                       max_features=feature, \n",
    "                                                       random_state=425)\n",
    "                        ## Model fitting        \n",
    "                        dct = model.fit(X_train_res, Y_train_res)\n",
    "                        Y_val_pred = model.predict(X_val) # Predicted values\n",
    "                        \n",
    "                        ## Model evaluation\n",
    "                        accuracy = accuracy_score(Y_val, Y_val_pred)\n",
    "                        f1 = f1_score(Y_val, Y_val_pred)\n",
    "                        auc = roc_auc_score(Y_val, Y_val_pred)\n",
    "                        \n",
    "                        ## Append results to dataframe\n",
    "                        results = results.append({'Neigbhors':weight, \n",
    "                                                  'Criterion':crit,\n",
    "                                                  'Splitter': split,\n",
    "                                                  'Depth': depth,\n",
    "                                                  'Leaf': leaf,\n",
    "                                                  'Feature': feature,\n",
    "                                                  'Accuracy':accuracy,\n",
    "                                                  'F1 Score':f1,\n",
    "                                                  'AUC Score': auc}, ignore_index = True)"
   ]
  },
  {
   "cell_type": "code",
   "execution_count": 20,
   "metadata": {},
   "outputs": [
    {
     "data": {
      "text/plain": [
       "Neigbhors           1\n",
       "Criterion        gini\n",
       "Splitter         best\n",
       "Depth               3\n",
       "Leaf                1\n",
       "Feature             6\n",
       "Accuracy     0.831703\n",
       "F1 Score     0.271186\n",
       "AUC Score    0.740782\n",
       "Name: 10105, dtype: object"
      ]
     },
     "execution_count": 20,
     "metadata": {},
     "output_type": "execute_result"
    }
   ],
   "source": [
    "## Retrieve result with highest F1 Score\n",
    "results.loc[results['F1 Score'].idxmax()]"
   ]
  },
  {
   "cell_type": "code",
   "execution_count": 22,
   "metadata": {},
   "outputs": [
    {
     "name": "stdout",
     "output_type": "stream",
     "text": [
      "Accuracy:  0.6747553816046967\n",
      "Precision: 0.1036036036036036\n",
      "Recall:    0.7244094488188977\n",
      "F1 Score:  0.1812807881773399\n",
      "AUC Score: 0.6982838018394324\n"
     ]
    },
    {
     "data": {
      "text/html": [
       "<div>\n",
       "<style scoped>\n",
       "    .dataframe tbody tr th:only-of-type {\n",
       "        vertical-align: middle;\n",
       "    }\n",
       "\n",
       "    .dataframe tbody tr th {\n",
       "        vertical-align: top;\n",
       "    }\n",
       "\n",
       "    .dataframe thead th {\n",
       "        text-align: right;\n",
       "    }\n",
       "</style>\n",
       "<table border=\"1\" class=\"dataframe\">\n",
       "  <thead>\n",
       "    <tr style=\"text-align: right;\">\n",
       "      <th>Actual</th>\n",
       "      <th>0.0</th>\n",
       "      <th>1.0</th>\n",
       "    </tr>\n",
       "    <tr>\n",
       "      <th>Predicted</th>\n",
       "      <th></th>\n",
       "      <th></th>\n",
       "    </tr>\n",
       "  </thead>\n",
       "  <tbody>\n",
       "    <tr>\n",
       "      <th>0.0</th>\n",
       "      <td>1632</td>\n",
       "      <td>796</td>\n",
       "    </tr>\n",
       "    <tr>\n",
       "      <th>1.0</th>\n",
       "      <td>35</td>\n",
       "      <td>92</td>\n",
       "    </tr>\n",
       "  </tbody>\n",
       "</table>\n",
       "</div>"
      ],
      "text/plain": [
       "Actual      0.0  1.0\n",
       "Predicted           \n",
       "0.0        1632  796\n",
       "1.0          35   92"
      ]
     },
     "execution_count": 22,
     "metadata": {},
     "output_type": "execute_result"
    }
   ],
   "source": [
    "## Run best model on testing data\n",
    "nm = NearMiss(version=1, n_neighbors=1)\n",
    "X_train_res, Y_train_res = nm.fit_resample(X_train, Y_train)\n",
    "\n",
    "model = DecisionTreeClassifier(criterion='gini', \n",
    "                                   splitter='best',  # random without Norm\n",
    "                                   max_depth=3, #  8 without Norm\n",
    "                                   min_samples_leaf=1,  # 4 without norm\n",
    "                                   max_features=6, # 2 without norm\n",
    "                                   random_state=425).fit(X_train_res, Y_train_res)\n",
    "Y_val_pred = model.predict(X_test)\n",
    "\n",
    "generate_model_report(Y_test, Y_val_pred)\n",
    "pd.crosstab(Y_test, Y_val_pred, rownames=['Predicted'], colnames=['Actual'])"
   ]
  },
  {
   "cell_type": "code",
   "execution_count": null,
   "metadata": {},
   "outputs": [],
   "source": []
  },
  {
   "cell_type": "markdown",
   "metadata": {},
   "source": [
    "# RANDOM FOREST"
   ]
  },
  {
   "cell_type": "markdown",
   "metadata": {},
   "source": [
    "## BASELINE"
   ]
  },
  {
   "cell_type": "code",
   "execution_count": 23,
   "metadata": {},
   "outputs": [
    {
     "data": {
      "text/plain": [
       "RandomForestClassifier(n_estimators=20, random_state=425)"
      ]
     },
     "execution_count": 23,
     "metadata": {},
     "output_type": "execute_result"
    },
    {
     "name": "stdout",
     "output_type": "stream",
     "text": [
      "Accuracy:  0.9471624266144814\n",
      "Precision: 0.21428571428571427\n",
      "Recall:    0.023622047244094488\n",
      "F1 Score:  0.04255319148936171\n",
      "AUC Score: 0.5095457847423108\n"
     ]
    },
    {
     "data": {
      "text/html": [
       "<div>\n",
       "<style scoped>\n",
       "    .dataframe tbody tr th:only-of-type {\n",
       "        vertical-align: middle;\n",
       "    }\n",
       "\n",
       "    .dataframe tbody tr th {\n",
       "        vertical-align: top;\n",
       "    }\n",
       "\n",
       "    .dataframe thead th {\n",
       "        text-align: right;\n",
       "    }\n",
       "</style>\n",
       "<table border=\"1\" class=\"dataframe\">\n",
       "  <thead>\n",
       "    <tr style=\"text-align: right;\">\n",
       "      <th>Actual</th>\n",
       "      <th>0.0</th>\n",
       "      <th>1.0</th>\n",
       "    </tr>\n",
       "    <tr>\n",
       "      <th>Predicted</th>\n",
       "      <th></th>\n",
       "      <th></th>\n",
       "    </tr>\n",
       "  </thead>\n",
       "  <tbody>\n",
       "    <tr>\n",
       "      <th>0.0</th>\n",
       "      <td>2417</td>\n",
       "      <td>11</td>\n",
       "    </tr>\n",
       "    <tr>\n",
       "      <th>1.0</th>\n",
       "      <td>124</td>\n",
       "      <td>3</td>\n",
       "    </tr>\n",
       "  </tbody>\n",
       "</table>\n",
       "</div>"
      ],
      "text/plain": [
       "Actual      0.0  1.0\n",
       "Predicted           \n",
       "0.0        2417   11\n",
       "1.0         124    3"
      ]
     },
     "execution_count": 23,
     "metadata": {},
     "output_type": "execute_result"
    }
   ],
   "source": [
    "from sklearn.ensemble import RandomForestClassifier\n",
    "from sklearn.datasets import make_classification\n",
    "#from sklearn.ensemble import AdaBoostClassifier\n",
    "\n",
    "rforest = RandomForestClassifier(n_estimators = 20, random_state=425)\n",
    "rforest.fit(X_train, Y_train)\n",
    "\n",
    "# Predicted values\n",
    "Y_test_pred = rforest.predict(X_test) \n",
    "                        \n",
    "## Model evaluation\n",
    "generate_model_report(Y_test, Y_test_pred)\n",
    "pd.crosstab(Y_test, Y_test_pred, rownames=['Predicted'], colnames=['Actual'])"
   ]
  },
  {
   "cell_type": "markdown",
   "metadata": {},
   "source": [
    "## OVERSAMPLING"
   ]
  },
  {
   "cell_type": "code",
   "execution_count": 83,
   "metadata": {},
   "outputs": [],
   "source": [
    "from imblearn.over_sampling import SMOTE\n",
    "\n",
    "## Initialize dataframe of all parameters to be validated\n",
    "results = pd.DataFrame(columns = ['Weight', \n",
    "                                  'N Estimator',\n",
    "                                  'Criterion', \n",
    "                                  'Depth', \n",
    "                                  'Leaf', \n",
    "                                  'Feature', \n",
    "                                  'Accuracy', \n",
    "                                  'F1 Score', \n",
    "                                  'AUC Score'])\n",
    "\n",
    "## Loop over all parameters\n",
    "for weight in [0.1, 0.2, 0.3, 0.4, 0.5, 0.6, 0.7, 0.8, 0.9, 1.0]: # SMOTE Ratio\n",
    "    for nest in [3,5,7,15]:\n",
    "        for crit in ['gini', 'entropy']:\n",
    "            for depth in [1, 2, 3, 4, 5, 6, 7, 8, 9, 10]:\n",
    "                for leaf in [1, 2, 3, 4, 5]:\n",
    "                    for feature in [1, 2, 3, 4, 5, 6, 7, 8, 'sqrt', 'log2']:\n",
    "                            \n",
    "                            ## Oversampling technique\n",
    "                            sm = SMOTE(random_state=12, sampling_strategy=weight)\n",
    "                            X_train_res, Y_train_res = sm.fit_resample(X_train, Y_train)\n",
    "                        \n",
    "                            ## Model definition\n",
    "                            model = RandomForestClassifier(n_estimators=nest,\n",
    "                                                           criterion=crit, \n",
    "                                                           max_depth=depth, \n",
    "                                                           min_samples_leaf=leaf, \n",
    "                                                           max_features=feature,\n",
    "                                                           #bootstrap=True,\n",
    "                                                           #class_weight = 'balanced_subsample',\n",
    "                                                           random_state=425)\n",
    "                        \n",
    "                            ## Model fitting\n",
    "                            dct = model.fit(X_train_res, Y_train_res)\n",
    "                            Y_val_pred = model.predict(X_val) # predicted values\n",
    "                            \n",
    "                            ## Model evaluation\n",
    "                            accuracy = accuracy_score(Y_val, Y_val_pred)\n",
    "                            f1 = f1_score(Y_val, Y_val_pred)\n",
    "                            auc = roc_auc_score(Y_val, Y_val_pred)\n",
    "                        \n",
    "                            ## Append results to dataframe\n",
    "                            results = results.append({'Weight':weight,\n",
    "                                                      'N Estimator':nest,\n",
    "                                                      'Criterion':crit,\n",
    "                                                      'Depth': depth,\n",
    "                                                      'Leaf': leaf,\n",
    "                                                      'Feature': feature,\n",
    "                                                      'Accuracy':accuracy,\n",
    "                                                      'F1 Score':f1,\n",
    "                                                      'AUC Score': auc}, ignore_index = True)"
   ]
  },
  {
   "cell_type": "code",
   "execution_count": 84,
   "metadata": {},
   "outputs": [
    {
     "data": {
      "text/plain": [
       "Weight              0.5\n",
       "N Estimator           7\n",
       "Criterion       entropy\n",
       "Depth                 5\n",
       "Leaf                  1\n",
       "Feature               4\n",
       "Accuracy       0.947162\n",
       "F1 Score        0.44898\n",
       "AUC Score      0.706626\n",
       "Name: 18703, dtype: object"
      ]
     },
     "execution_count": 84,
     "metadata": {},
     "output_type": "execute_result"
    }
   ],
   "source": [
    "results.loc[results['F1 Score'].idxmax()]"
   ]
  },
  {
   "cell_type": "code",
   "execution_count": 85,
   "metadata": {},
   "outputs": [],
   "source": [
    "## Another loop to get more granularity of SMOTE\n",
    "# Before I tested 10 different smote weights, now I test 3000\n",
    "results_sm = pd.DataFrame(columns = ['Weight', 'Accuracy', 'F1 Score', 'MA_Acc', 'MA_F1'])\n",
    "weights = np.linspace(0.07, 1, 3000)\n",
    "\n",
    "for weight in weights:\n",
    "    sm = SMOTE(random_state=12, sampling_strategy=weight)\n",
    "    X_train_res, Y_train_res = sm.fit_resample(X_train, Y_train)\n",
    "    model = RandomForestClassifier(criterion='entropy', \n",
    "                                   n_estimators=7,\n",
    "                                   max_depth=5,\n",
    "                                   min_samples_leaf=1, # 5 with norm\n",
    "                                   max_features=4,  # 1 with norm\n",
    "                                   random_state=425).fit(X_train_res, Y_train_res)\n",
    "    Y_val_pred = model.predict(X_val)\n",
    "    accuracy = accuracy_score(Y_val, Y_val_pred)\n",
    "    f1 = f1_score(Y_val, Y_val_pred)\n",
    "    results_sm = results_sm.append({'Weight':weight, 'Accuracy':accuracy,'F1 Score':f1}, ignore_index = True)"
   ]
  },
  {
   "cell_type": "code",
   "execution_count": 86,
   "metadata": {},
   "outputs": [
    {
     "data": {
      "image/png": "[encoded data removed]",
      "text/plain": [
       "<Figure size 864x432 with 2 Axes>"
      ]
     },
     "metadata": {
      "needs_background": "light"
     },
     "output_type": "display_data"
    }
   ],
   "source": [
    "## Plotting moving average of SMOTE weights and scors\n",
    "for i in range(15,len(results)):\n",
    "    results_sm['MA_F1'][i] = (results_sm['F1 Score'][i-15:i]).mean()\n",
    "    results_sm['MA_Acc'][i] = (results_sm['Accuracy'][i-15:i]).mean()\n",
    "\n",
    "## Plot\n",
    "fig, ax = plt.subplots(figsize=(12,6))\n",
    "\n",
    "ax.plot(results_sm['Weight'], results_sm['MA_F1'], color='tab:red', label=\"F1 Score\")\n",
    "ax.plot(results_sm['Weight'], results_sm['F1 Score'], color='tab:red', label=\"F1 Score\", alpha=0.15)\n",
    "ax.set_ylabel('F1 Score', color='tab:red')\n",
    "ax.set_xlabel(\"SMOTE Weight\")\n",
    "ax2=ax.twinx()\n",
    "ax2.plot(results_sm['Weight'], results_sm['MA_Acc'], color='tab:blue', label=\"Accuracy\")\n",
    "ax2.set_ylabel('Accuracy', color='tab:blue')\n",
    "plt.show();"
   ]
  },
  {
   "cell_type": "code",
   "execution_count": 87,
   "metadata": {},
   "outputs": [
    {
     "data": {
      "text/plain": [
       "Weight      0.500113\n",
       "Accuracy    0.947162\n",
       "F1 Score    0.448980\n",
       "MA_Acc      0.926549\n",
       "MA_F1       0.244232\n",
       "Name: 1387, dtype: float64"
      ]
     },
     "execution_count": 87,
     "metadata": {},
     "output_type": "execute_result"
    }
   ],
   "source": [
    "results_sm.loc[results_sm['F1 Score'].idxmax()]"
   ]
  },
  {
   "cell_type": "code",
   "execution_count": 92,
   "metadata": {},
   "outputs": [
    {
     "name": "stdout",
     "output_type": "stream",
     "text": [
      "Accuracy:  0.910371819960861\n",
      "Precision: 0.16883116883116883\n",
      "Recall:    0.2047244094488189\n",
      "F1 Score:  0.18505338078291814\n",
      "AUC Score: 0.5760030613965677\n"
     ]
    },
    {
     "data": {
      "text/html": [
       "<div>\n",
       "<style scoped>\n",
       "    .dataframe tbody tr th:only-of-type {\n",
       "        vertical-align: middle;\n",
       "    }\n",
       "\n",
       "    .dataframe tbody tr th {\n",
       "        vertical-align: top;\n",
       "    }\n",
       "\n",
       "    .dataframe thead th {\n",
       "        text-align: right;\n",
       "    }\n",
       "</style>\n",
       "<table border=\"1\" class=\"dataframe\">\n",
       "  <thead>\n",
       "    <tr style=\"text-align: right;\">\n",
       "      <th>Actual</th>\n",
       "      <th>0.0</th>\n",
       "      <th>1.0</th>\n",
       "    </tr>\n",
       "    <tr>\n",
       "      <th>Predicted</th>\n",
       "      <th></th>\n",
       "      <th></th>\n",
       "    </tr>\n",
       "  </thead>\n",
       "  <tbody>\n",
       "    <tr>\n",
       "      <th>0.0</th>\n",
       "      <td>2300</td>\n",
       "      <td>128</td>\n",
       "    </tr>\n",
       "    <tr>\n",
       "      <th>1.0</th>\n",
       "      <td>101</td>\n",
       "      <td>26</td>\n",
       "    </tr>\n",
       "  </tbody>\n",
       "</table>\n",
       "</div>"
      ],
      "text/plain": [
       "Actual      0.0  1.0\n",
       "Predicted           \n",
       "0.0        2300  128\n",
       "1.0         101   26"
      ]
     },
     "execution_count": 92,
     "metadata": {},
     "output_type": "execute_result"
    }
   ],
   "source": [
    "## Run best model on testing data\n",
    "sm = SMOTE(random_state=12, sampling_strategy=0.5)\n",
    "X_train_res, Y_train_res = sm.fit_resample(X_train, Y_train)\n",
    "\n",
    "model = RandomForestClassifier(criterion='entropy', \n",
    "                                   n_estimators=7, \n",
    "                                   max_depth=5,\n",
    "                                   min_samples_leaf=1, \n",
    "                                   max_features=4, \n",
    "                                   random_state=425).fit(X_train_res, Y_train_res)\n",
    "\n",
    "Y_test_pred = model.predict(X_test)\n",
    "\n",
    "generate_model_report(Y_test, Y_test_pred)\n",
    "pd.crosstab(Y_test, Y_test_pred, rownames=['Predicted'], colnames=['Actual'])"
   ]
  },
  {
   "cell_type": "markdown",
   "metadata": {},
   "source": [
    "## UNDERSAMPLING"
   ]
  },
  {
   "cell_type": "code",
   "execution_count": 93,
   "metadata": {},
   "outputs": [],
   "source": [
    "from imblearn.under_sampling import NearMiss\n",
    "\n",
    "## Initialize dataframe of all parameters to be validated\n",
    "results = pd.DataFrame(columns = ['Neigbhors', \n",
    "                                  'Criterion', \n",
    "                                  'Splitter', \n",
    "                                  'Depth', \n",
    "                                  'Leaf', \n",
    "                                  'Feature', \n",
    "                                  'Accuracy', \n",
    "                                  'F1 Score', \n",
    "                                  'AUC Score'])\n",
    "\n",
    "## Loop over all parameters\n",
    "for neighbor in [1, 2, 3, 4, 5, 6, 7, 8, 9, 10]:\n",
    "    for nest in [3,5,7,15]:\n",
    "        for crit in ['gini', 'entropy']:\n",
    "            for depth in [1, 2, 3, 4, 5, 6, 7, 8, 9, 10]:\n",
    "                for leaf in [1, 2, 3, 4, 5]:\n",
    "                    for feature in [1, 2, 3, 4, 5, 6, 7, 8, 'sqrt', 'log2']:\n",
    "                        \n",
    "                        ## Underampling technique\n",
    "                        nm = NearMiss(version=1,n_neighbors=neighbor)\n",
    "                        X_train_res, Y_train_res = nm.fit_resample(X_train, Y_train)\n",
    "                        \n",
    "                        ## Model definition\n",
    "                        model = RandomForestClassifier(n_estimators=nest,\n",
    "                                                       criterion=crit, \n",
    "                                                       max_depth=depth, \n",
    "                                                       min_samples_leaf=leaf, \n",
    "                                                       max_features=feature, \n",
    "                                                       random_state=425)\n",
    "                        ## Model fitting        \n",
    "                        dct = model.fit(X_train_res, Y_train_res)\n",
    "                        Y_val_pred = model.predict(X_val) # Predicted values\n",
    "                        \n",
    "                        ## Model evaluation\n",
    "                        accuracy = accuracy_score(Y_val, Y_val_pred)\n",
    "                        f1 = f1_score(Y_val, Y_val_pred)\n",
    "                        auc = roc_auc_score(Y_val, Y_val_pred)\n",
    "                        \n",
    "                        ## Append results to dataframe\n",
    "                        results = results.append({'Neigbhors':weight, \n",
    "                                                  'Criterion':crit,\n",
    "                                                  'Splitter': sp,\n",
    "                                                  'Depth': depth,\n",
    "                                                  'Leaf': leaf,\n",
    "                                                  'Feature': feature,\n",
    "                                                  'Accuracy':accuracy,\n",
    "                                                  'F1 Score':f1,\n",
    "                                                  'AUC Score': auc}, ignore_index = True)"
   ]
  },
  {
   "cell_type": "code",
   "execution_count": 94,
   "metadata": {},
   "outputs": [
    {
     "data": {
      "text/plain": [
       "Neigbhors           1\n",
       "Criterion        gini\n",
       "Splitter       random\n",
       "Depth               8\n",
       "Leaf                2\n",
       "Feature             2\n",
       "Accuracy     0.763209\n",
       "F1 Score     0.238994\n",
       "AUC Score    0.761687\n",
       "Name: 2361, dtype: object"
      ]
     },
     "execution_count": 94,
     "metadata": {},
     "output_type": "execute_result"
    }
   ],
   "source": [
    "results.loc[results['F1 Score'].idxmax()]"
   ]
  },
  {
   "cell_type": "code",
   "execution_count": 96,
   "metadata": {},
   "outputs": [
    {
     "name": "stdout",
     "output_type": "stream",
     "text": [
      "Accuracy:  0.7068493150684931\n",
      "Precision: 0.06805555555555555\n",
      "Recall:    0.3858267716535433\n",
      "F1 Score:  0.11570247933884296\n",
      "AUC Score: 0.5547338141628507\n"
     ]
    },
    {
     "data": {
      "text/html": [
       "<div>\n",
       "<style scoped>\n",
       "    .dataframe tbody tr th:only-of-type {\n",
       "        vertical-align: middle;\n",
       "    }\n",
       "\n",
       "    .dataframe tbody tr th {\n",
       "        vertical-align: top;\n",
       "    }\n",
       "\n",
       "    .dataframe thead th {\n",
       "        text-align: right;\n",
       "    }\n",
       "</style>\n",
       "<table border=\"1\" class=\"dataframe\">\n",
       "  <thead>\n",
       "    <tr style=\"text-align: right;\">\n",
       "      <th>Actual</th>\n",
       "      <th>0.0</th>\n",
       "      <th>1.0</th>\n",
       "    </tr>\n",
       "    <tr>\n",
       "      <th>Predicted</th>\n",
       "      <th></th>\n",
       "      <th></th>\n",
       "    </tr>\n",
       "  </thead>\n",
       "  <tbody>\n",
       "    <tr>\n",
       "      <th>0.0</th>\n",
       "      <td>1757</td>\n",
       "      <td>671</td>\n",
       "    </tr>\n",
       "    <tr>\n",
       "      <th>1.0</th>\n",
       "      <td>78</td>\n",
       "      <td>49</td>\n",
       "    </tr>\n",
       "  </tbody>\n",
       "</table>\n",
       "</div>"
      ],
      "text/plain": [
       "Actual      0.0  1.0\n",
       "Predicted           \n",
       "0.0        1757  671\n",
       "1.0          78   49"
      ]
     },
     "execution_count": 96,
     "metadata": {},
     "output_type": "execute_result"
    }
   ],
   "source": [
    "## Run best model on testing data\n",
    "nm = NearMiss(version=1, n_neighbors=1)\n",
    "X_train_res, Y_train_res = nm.fit_resample(X_train, Y_train)\n",
    "\n",
    "model = DecisionTreeClassifier(criterion='gini', \n",
    "                                   splitter='random', \n",
    "                                   max_depth=8, # 1 with norm\n",
    "                                   min_samples_leaf=2,  # 1 with norm\n",
    "                                   max_features=2, # 5 with norm\n",
    "                                   random_state=425).fit(X_train_res, Y_train_res)\n",
    "Y_val_pred = model.predict(X_test)\n",
    "\n",
    "generate_model_report(Y_test, Y_val_pred)\n",
    "pd.crosstab(Y_test, Y_val_pred, rownames=['Predicted'], colnames=['Actual'])"
   ]
  }
 ],
 "metadata": {
  "kernelspec": {
   "display_name": "Python 3",
   "language": "python",
   "name": "python3"
  },
  "language_info": {
   "codemirror_mode": {
    "name": "ipython",
    "version": 3
   },
   "file_extension": ".py",
   "mimetype": "text/x-python",
   "name": "python",
   "nbconvert_exporter": "python",
   "pygments_lexer": "ipython3",
   "version": "3.8.5"
  }
 },
 "nbformat": 4,
 "nbformat_minor": 4
}
